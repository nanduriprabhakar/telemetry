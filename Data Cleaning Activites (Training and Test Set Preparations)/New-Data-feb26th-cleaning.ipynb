{
 "cells": [
  {
   "cell_type": "code",
   "execution_count": 1,
   "metadata": {
    "collapsed": true
   },
   "outputs": [],
   "source": [
    "import pandas as pd\n",
    "import numpy as np\n",
    "import matplotlib.pyplot as plt\n",
    "import matplotlib.pylab as plt2\n",
    "%matplotlib inline"
   ]
  },
  {
   "cell_type": "code",
   "execution_count": 2,
   "metadata": {},
   "outputs": [
    {
     "name": "stderr",
     "output_type": "stream",
     "text": [
      "D:\\Anaconda3\\lib\\site-packages\\IPython\\core\\interactiveshell.py:2698: DtypeWarning: Columns (6,37,38,46,63,70,74,82) have mixed types. Specify dtype option on import or set low_memory=False.\n",
      "  interactivity=interactivity, compiler=compiler, result=result)\n"
     ]
    }
   ],
   "source": [
    "raw_data = pd.read_csv(\"D:/Downloads_D/random_portflap.csv\")"
   ]
  },
  {
   "cell_type": "code",
   "execution_count": 3,
   "metadata": {},
   "outputs": [
    {
     "data": {
      "text/html": [
       "<div>\n",
       "<style>\n",
       "    .dataframe thead tr:only-child th {\n",
       "        text-align: right;\n",
       "    }\n",
       "\n",
       "    .dataframe thead th {\n",
       "        text-align: left;\n",
       "    }\n",
       "\n",
       "    .dataframe tbody tr th {\n",
       "        vertical-align: top;\n",
       "    }\n",
       "</style>\n",
       "<table border=\"1\" class=\"dataframe\">\n",
       "  <thead>\n",
       "    <tr style=\"text-align: right;\">\n",
       "      <th></th>\n",
       "      <th>name</th>\n",
       "      <th>time</th>\n",
       "      <th>EncodingPath</th>\n",
       "      <th>Producer</th>\n",
       "      <th>acl-in-rpf-packets</th>\n",
       "      <th>active-routes-count</th>\n",
       "      <th>af-name</th>\n",
       "      <th>as</th>\n",
       "      <th>backup-routes-count</th>\n",
       "      <th>bandwidth</th>\n",
       "      <th>...</th>\n",
       "      <th>total-cpu-five-minute</th>\n",
       "      <th>total-cpu-one-minute</th>\n",
       "      <th>total-number-of-drop-packets</th>\n",
       "      <th>unresolved-prefix-packets</th>\n",
       "      <th>unsupported-feature-packets</th>\n",
       "      <th>vrf-name</th>\n",
       "      <th>vrf__neighbors-count</th>\n",
       "      <th>vrf__network-count</th>\n",
       "      <th>vrf__path-count</th>\n",
       "      <th>vrf__update-messages-received</th>\n",
       "    </tr>\n",
       "  </thead>\n",
       "  <tbody>\n",
       "    <tr>\n",
       "      <th>0</th>\n",
       "      <td>Cisco-IOS-XR-fib-common-oper:fib-statistics/no...</td>\n",
       "      <td>1519680887170000000</td>\n",
       "      <td>Cisco-IOS-XR-fib-common-oper:fib-statistics/no...</td>\n",
       "      <td>leaf7</td>\n",
       "      <td>0.0</td>\n",
       "      <td>NaN</td>\n",
       "      <td>NaN</td>\n",
       "      <td>NaN</td>\n",
       "      <td>NaN</td>\n",
       "      <td>NaN</td>\n",
       "      <td>...</td>\n",
       "      <td>NaN</td>\n",
       "      <td>NaN</td>\n",
       "      <td>0.0</td>\n",
       "      <td>0.0</td>\n",
       "      <td>0.0</td>\n",
       "      <td>NaN</td>\n",
       "      <td>NaN</td>\n",
       "      <td>NaN</td>\n",
       "      <td>NaN</td>\n",
       "      <td>NaN</td>\n",
       "    </tr>\n",
       "    <tr>\n",
       "      <th>1</th>\n",
       "      <td>Cisco-IOS-XR-fib-common-oper:fib-statistics/no...</td>\n",
       "      <td>1519680887488000000</td>\n",
       "      <td>Cisco-IOS-XR-fib-common-oper:fib-statistics/no...</td>\n",
       "      <td>leaf2</td>\n",
       "      <td>0.0</td>\n",
       "      <td>NaN</td>\n",
       "      <td>NaN</td>\n",
       "      <td>NaN</td>\n",
       "      <td>NaN</td>\n",
       "      <td>NaN</td>\n",
       "      <td>...</td>\n",
       "      <td>NaN</td>\n",
       "      <td>NaN</td>\n",
       "      <td>0.0</td>\n",
       "      <td>0.0</td>\n",
       "      <td>0.0</td>\n",
       "      <td>NaN</td>\n",
       "      <td>NaN</td>\n",
       "      <td>NaN</td>\n",
       "      <td>NaN</td>\n",
       "      <td>NaN</td>\n",
       "    </tr>\n",
       "    <tr>\n",
       "      <th>2</th>\n",
       "      <td>Cisco-IOS-XR-fib-common-oper:fib-statistics/no...</td>\n",
       "      <td>1519680887787000000</td>\n",
       "      <td>Cisco-IOS-XR-fib-common-oper:fib-statistics/no...</td>\n",
       "      <td>leaf3</td>\n",
       "      <td>0.0</td>\n",
       "      <td>NaN</td>\n",
       "      <td>NaN</td>\n",
       "      <td>NaN</td>\n",
       "      <td>NaN</td>\n",
       "      <td>NaN</td>\n",
       "      <td>...</td>\n",
       "      <td>NaN</td>\n",
       "      <td>NaN</td>\n",
       "      <td>0.0</td>\n",
       "      <td>0.0</td>\n",
       "      <td>0.0</td>\n",
       "      <td>NaN</td>\n",
       "      <td>NaN</td>\n",
       "      <td>NaN</td>\n",
       "      <td>NaN</td>\n",
       "      <td>NaN</td>\n",
       "    </tr>\n",
       "    <tr>\n",
       "      <th>3</th>\n",
       "      <td>Cisco-IOS-XR-fib-common-oper:fib-statistics/no...</td>\n",
       "      <td>1519680887903000000</td>\n",
       "      <td>Cisco-IOS-XR-fib-common-oper:fib-statistics/no...</td>\n",
       "      <td>leaf1</td>\n",
       "      <td>0.0</td>\n",
       "      <td>NaN</td>\n",
       "      <td>NaN</td>\n",
       "      <td>NaN</td>\n",
       "      <td>NaN</td>\n",
       "      <td>NaN</td>\n",
       "      <td>...</td>\n",
       "      <td>NaN</td>\n",
       "      <td>NaN</td>\n",
       "      <td>0.0</td>\n",
       "      <td>0.0</td>\n",
       "      <td>0.0</td>\n",
       "      <td>NaN</td>\n",
       "      <td>NaN</td>\n",
       "      <td>NaN</td>\n",
       "      <td>NaN</td>\n",
       "      <td>NaN</td>\n",
       "    </tr>\n",
       "    <tr>\n",
       "      <th>4</th>\n",
       "      <td>Cisco-IOS-XR-fib-common-oper:fib-statistics/no...</td>\n",
       "      <td>1519680888831000000</td>\n",
       "      <td>Cisco-IOS-XR-fib-common-oper:fib-statistics/no...</td>\n",
       "      <td>spine4</td>\n",
       "      <td>0.0</td>\n",
       "      <td>NaN</td>\n",
       "      <td>NaN</td>\n",
       "      <td>NaN</td>\n",
       "      <td>NaN</td>\n",
       "      <td>NaN</td>\n",
       "      <td>...</td>\n",
       "      <td>NaN</td>\n",
       "      <td>NaN</td>\n",
       "      <td>0.0</td>\n",
       "      <td>0.0</td>\n",
       "      <td>0.0</td>\n",
       "      <td>NaN</td>\n",
       "      <td>NaN</td>\n",
       "      <td>NaN</td>\n",
       "      <td>NaN</td>\n",
       "      <td>NaN</td>\n",
       "    </tr>\n",
       "  </tbody>\n",
       "</table>\n",
       "<p>5 rows × 87 columns</p>\n",
       "</div>"
      ],
      "text/plain": [
       "                                                name                 time  \\\n",
       "0  Cisco-IOS-XR-fib-common-oper:fib-statistics/no...  1519680887170000000   \n",
       "1  Cisco-IOS-XR-fib-common-oper:fib-statistics/no...  1519680887488000000   \n",
       "2  Cisco-IOS-XR-fib-common-oper:fib-statistics/no...  1519680887787000000   \n",
       "3  Cisco-IOS-XR-fib-common-oper:fib-statistics/no...  1519680887903000000   \n",
       "4  Cisco-IOS-XR-fib-common-oper:fib-statistics/no...  1519680888831000000   \n",
       "\n",
       "                                        EncodingPath Producer  \\\n",
       "0  Cisco-IOS-XR-fib-common-oper:fib-statistics/no...    leaf7   \n",
       "1  Cisco-IOS-XR-fib-common-oper:fib-statistics/no...    leaf2   \n",
       "2  Cisco-IOS-XR-fib-common-oper:fib-statistics/no...    leaf3   \n",
       "3  Cisco-IOS-XR-fib-common-oper:fib-statistics/no...    leaf1   \n",
       "4  Cisco-IOS-XR-fib-common-oper:fib-statistics/no...   spine4   \n",
       "\n",
       "   acl-in-rpf-packets  active-routes-count af-name  as  backup-routes-count  \\\n",
       "0                 0.0                  NaN     NaN NaN                  NaN   \n",
       "1                 0.0                  NaN     NaN NaN                  NaN   \n",
       "2                 0.0                  NaN     NaN NaN                  NaN   \n",
       "3                 0.0                  NaN     NaN NaN                  NaN   \n",
       "4                 0.0                  NaN     NaN NaN                  NaN   \n",
       "\n",
       "   bandwidth              ...                total-cpu-five-minute  \\\n",
       "0        NaN              ...                                  NaN   \n",
       "1        NaN              ...                                  NaN   \n",
       "2        NaN              ...                                  NaN   \n",
       "3        NaN              ...                                  NaN   \n",
       "4        NaN              ...                                  NaN   \n",
       "\n",
       "   total-cpu-one-minute  total-number-of-drop-packets  \\\n",
       "0                   NaN                           0.0   \n",
       "1                   NaN                           0.0   \n",
       "2                   NaN                           0.0   \n",
       "3                   NaN                           0.0   \n",
       "4                   NaN                           0.0   \n",
       "\n",
       "   unresolved-prefix-packets  unsupported-feature-packets  vrf-name  \\\n",
       "0                        0.0                          0.0       NaN   \n",
       "1                        0.0                          0.0       NaN   \n",
       "2                        0.0                          0.0       NaN   \n",
       "3                        0.0                          0.0       NaN   \n",
       "4                        0.0                          0.0       NaN   \n",
       "\n",
       "   vrf__neighbors-count  vrf__network-count  vrf__path-count  \\\n",
       "0                   NaN                 NaN              NaN   \n",
       "1                   NaN                 NaN              NaN   \n",
       "2                   NaN                 NaN              NaN   \n",
       "3                   NaN                 NaN              NaN   \n",
       "4                   NaN                 NaN              NaN   \n",
       "\n",
       "   vrf__update-messages-received  \n",
       "0                            NaN  \n",
       "1                            NaN  \n",
       "2                            NaN  \n",
       "3                            NaN  \n",
       "4                            NaN  \n",
       "\n",
       "[5 rows x 87 columns]"
      ]
     },
     "execution_count": 3,
     "metadata": {},
     "output_type": "execute_result"
    }
   ],
   "source": [
    "raw_data.head()"
   ]
  },
  {
   "cell_type": "code",
   "execution_count": 4,
   "metadata": {
    "collapsed": true
   },
   "outputs": [],
   "source": [
    "raw_data_leaf1=raw_data[(raw_data.Producer=='leaf1')]"
   ]
  },
  {
   "cell_type": "code",
   "execution_count": 5,
   "metadata": {
    "collapsed": true
   },
   "outputs": [],
   "source": [
    "raw_data_leaf2=raw_data[(raw_data.Producer=='leaf2')]\n",
    "raw_data_leaf3=raw_data[(raw_data.Producer=='leaf3')]\n",
    "raw_data_leaf4=raw_data[(raw_data.Producer=='leaf4')]\n",
    "raw_data_leaf5=raw_data[(raw_data.Producer=='leaf5')]\n",
    "raw_data_leaf6=raw_data[(raw_data.Producer=='leaf6')]\n",
    "raw_data_leaf7=raw_data[(raw_data.Producer=='leaf7')]\n",
    "raw_data_leaf8=raw_data[(raw_data.Producer=='leaf8')]\n",
    "raw_data_spine1=raw_data[(raw_data.Producer=='spine1')]\n",
    "raw_data_spine2=raw_data[(raw_data.Producer=='spine2')]\n",
    "raw_data_spine3=raw_data[(raw_data.Producer=='spine3')]\n",
    "raw_data_spine4=raw_data[(raw_data.Producer=='spine4')]\n"
   ]
  },
  {
   "cell_type": "code",
   "execution_count": 11,
   "metadata": {
    "collapsed": true
   },
   "outputs": [],
   "source": [
    "cleaned_data_leaf1=raw_data_leaf1[['time','input-data-rate','output-data-rate','interface-name']]\n",
    "cleaned_data_leaf1=cleaned_data_leaf1.dropna()\n",
    "cleaned_data_leaf1.set_index('time');\n",
    "cleaned_data_leaf1.to_csv('cleaned_data_leaf1_50min.csv', index=False)"
   ]
  },
  {
   "cell_type": "code",
   "execution_count": 12,
   "metadata": {
    "collapsed": true
   },
   "outputs": [],
   "source": [
    "cleaned_data_leaf2=raw_data_leaf2[['time','input-data-rate','output-data-rate','interface-name']]\n",
    "cleaned_data_leaf2=cleaned_data_leaf2.dropna()\n",
    "cleaned_data_leaf2.set_index('time');\n",
    "cleaned_data_leaf2.to_csv('cleaned_data_leaf2_50min.csv', index=False)"
   ]
  },
  {
   "cell_type": "code",
   "execution_count": 13,
   "metadata": {
    "collapsed": true
   },
   "outputs": [],
   "source": [
    "cleaned_data_leaf3=raw_data_leaf3[['time','input-data-rate','output-data-rate','interface-name']]\n",
    "cleaned_data_leaf3=cleaned_data_leaf3.dropna()\n",
    "cleaned_data_leaf3.set_index('time');\n",
    "cleaned_data_leaf3.to_csv('cleaned_data_leaf3_50min.csv', index=False)"
   ]
  },
  {
   "cell_type": "code",
   "execution_count": 14,
   "metadata": {
    "collapsed": true
   },
   "outputs": [],
   "source": [
    "cleaned_data_leaf4=raw_data_leaf4[['time','input-data-rate','output-data-rate','interface-name']]\n",
    "cleaned_data_leaf4=cleaned_data_leaf4.dropna()\n",
    "cleaned_data_leaf4.set_index('time');\n",
    "cleaned_data_leaf4.to_csv('cleaned_data_leaf4_50min.csv', index=False)"
   ]
  },
  {
   "cell_type": "code",
   "execution_count": 15,
   "metadata": {
    "collapsed": true
   },
   "outputs": [],
   "source": [
    "cleaned_data_leaf5=raw_data_leaf5[['time','input-data-rate','output-data-rate','interface-name']]\n",
    "cleaned_data_leaf5=cleaned_data_leaf5.dropna()\n",
    "cleaned_data_leaf5.set_index('time');\n",
    "cleaned_data_leaf5.to_csv('cleaned_data_leaf5_50min.csv', index=False)"
   ]
  },
  {
   "cell_type": "code",
   "execution_count": 16,
   "metadata": {
    "collapsed": true
   },
   "outputs": [],
   "source": [
    "cleaned_data_leaf6=raw_data_leaf6[['time','input-data-rate','output-data-rate','interface-name']]\n",
    "cleaned_data_leaf6=cleaned_data_leaf6.dropna()\n",
    "cleaned_data_leaf6.set_index('time');\n",
    "cleaned_data_leaf6.to_csv('cleaned_data_leaf6_50min.csv', index=False)"
   ]
  },
  {
   "cell_type": "code",
   "execution_count": 17,
   "metadata": {
    "collapsed": true
   },
   "outputs": [],
   "source": [
    "cleaned_data_leaf7=raw_data_leaf7[['time','input-data-rate','output-data-rate','interface-name']]\n",
    "cleaned_data_leaf7=cleaned_data_leaf7.dropna()\n",
    "cleaned_data_leaf7.set_index('time');\n",
    "cleaned_data_leaf7.to_csv('cleaned_data_leaf7_50min.csv', index=False)"
   ]
  },
  {
   "cell_type": "code",
   "execution_count": 18,
   "metadata": {
    "collapsed": true
   },
   "outputs": [],
   "source": [
    "cleaned_data_leaf8=raw_data_leaf8[['time','input-data-rate','output-data-rate','interface-name']]\n",
    "cleaned_data_leaf8=cleaned_data_leaf8.dropna()\n",
    "cleaned_data_leaf8.set_index('time');\n",
    "cleaned_data_leaf8.to_csv('cleaned_data_leaf8_50min.csv', index=False)"
   ]
  },
  {
   "cell_type": "code",
   "execution_count": 19,
   "metadata": {
    "collapsed": true
   },
   "outputs": [],
   "source": [
    "cleaned_data_spine1=raw_data_spine1[['time','input-data-rate','output-data-rate','interface-name']]\n",
    "cleaned_data_spine1=cleaned_data_spine1.dropna()\n",
    "cleaned_data_spine1.set_index('time');\n",
    "cleaned_data_spine1.to_csv('cleaned_data_spine1_50min.csv', index=False)"
   ]
  },
  {
   "cell_type": "code",
   "execution_count": 20,
   "metadata": {
    "collapsed": true
   },
   "outputs": [],
   "source": [
    "cleaned_data_spine2=raw_data_spine2[['time','input-data-rate','output-data-rate','interface-name']]\n",
    "cleaned_data_spine2=cleaned_data_spine2.dropna()\n",
    "cleaned_data_spine2.set_index('time');\n",
    "cleaned_data_spine2.to_csv('cleaned_data_spine2_50min.csv', index=False)"
   ]
  },
  {
   "cell_type": "code",
   "execution_count": 21,
   "metadata": {
    "collapsed": true
   },
   "outputs": [],
   "source": [
    "cleaned_data_spine3=raw_data_spine3[['time','input-data-rate','output-data-rate','interface-name']]\n",
    "cleaned_data_spine3=cleaned_data_spine3.dropna()\n",
    "cleaned_data_spine3.set_index('time');\n",
    "cleaned_data_spine3.to_csv('cleaned_data_spine3_50min.csv', index=False)"
   ]
  },
  {
   "cell_type": "code",
   "execution_count": 22,
   "metadata": {
    "collapsed": true
   },
   "outputs": [],
   "source": [
    "cleaned_data_spine4=raw_data_spine4[['time','input-data-rate','output-data-rate','interface-name']]\n",
    "cleaned_data_spine4=cleaned_data_spine4.dropna()\n",
    "cleaned_data_spine4.set_index('time');\n",
    "cleaned_data_spine4.to_csv('cleaned_data_spine4_50min.csv', index=False)"
   ]
  },
  {
   "cell_type": "code",
   "execution_count": 23,
   "metadata": {},
   "outputs": [
    {
     "name": "stderr",
     "output_type": "stream",
     "text": [
      "D:\\Anaconda3\\lib\\site-packages\\IPython\\core\\interactiveshell.py:2698: DtypeWarning: Columns (6,37,38,46,63,70,74,82) have mixed types. Specify dtype option on import or set low_memory=False.\n",
      "  interactivity=interactivity, compiler=compiler, result=result)\n"
     ]
    }
   ],
   "source": [
    "raw_data2 = pd.read_csv(\"D:/Downloads_D/transceiver_pull.csv\")"
   ]
  },
  {
   "cell_type": "code",
   "execution_count": 24,
   "metadata": {
    "collapsed": true
   },
   "outputs": [],
   "source": [
    "raw_data2_leaf1=raw_data2[(raw_data2.Producer=='leaf1')]\n",
    "raw_data2_leaf2=raw_data2[(raw_data2.Producer=='leaf2')]\n",
    "raw_data2_leaf3=raw_data2[(raw_data2.Producer=='leaf3')]\n",
    "raw_data2_leaf4=raw_data2[(raw_data2.Producer=='leaf4')]\n",
    "raw_data2_leaf5=raw_data2[(raw_data2.Producer=='leaf5')]\n",
    "raw_data2_leaf6=raw_data2[(raw_data2.Producer=='leaf6')]\n",
    "raw_data2_leaf7=raw_data2[(raw_data2.Producer=='leaf7')]\n",
    "raw_data2_leaf8=raw_data2[(raw_data2.Producer=='leaf8')]\n",
    "raw_data2_spine1=raw_data2[(raw_data2.Producer=='spine1')]\n",
    "raw_data2_spine2=raw_data2[(raw_data2.Producer=='spine2')]\n",
    "raw_data2_spine3=raw_data2[(raw_data2.Producer=='spine3')]\n",
    "raw_data2_spine4=raw_data2[(raw_data2.Producer=='spine4')]"
   ]
  },
  {
   "cell_type": "code",
   "execution_count": 25,
   "metadata": {
    "collapsed": true
   },
   "outputs": [],
   "source": [
    "cleaned_data2_leaf1=raw_data2_leaf1[['time','input-data-rate','output-data-rate','interface-name']]\n",
    "cleaned_data2_leaf1=cleaned_data2_leaf1.dropna()\n",
    "cleaned_data2_leaf1.set_index('time');\n",
    "cleaned_data2_leaf1.to_csv('cleaned_data2_leaf1_26min.csv', index=False)\n",
    "cleaned_data2_leaf2=raw_data2_leaf2[['time','input-data-rate','output-data-rate','interface-name']]\n",
    "cleaned_data2_leaf2=cleaned_data2_leaf2.dropna()\n",
    "cleaned_data2_leaf2.set_index('time');\n",
    "cleaned_data2_leaf2.to_csv('cleaned_data2_leaf2_26min.csv', index=False)\n",
    "cleaned_data2_leaf3=raw_data2_leaf3[['time','input-data-rate','output-data-rate','interface-name']]\n",
    "cleaned_data2_leaf3=cleaned_data2_leaf3.dropna()\n",
    "cleaned_data2_leaf3.set_index('time');\n",
    "cleaned_data2_leaf3.to_csv('cleaned_data2_leaf3_26min.csv', index=False)\n",
    "cleaned_data2_leaf4=raw_data2_leaf4[['time','input-data-rate','output-data-rate','interface-name']]\n",
    "cleaned_data2_leaf4=cleaned_data2_leaf4.dropna()\n",
    "cleaned_data2_leaf4.set_index('time');\n",
    "cleaned_data2_leaf4.to_csv('cleaned_data2_leaf4_26min.csv', index=False)\n",
    "cleaned_data2_leaf5=raw_data2_leaf5[['time','input-data-rate','output-data-rate','interface-name']]\n",
    "cleaned_data2_leaf5=cleaned_data2_leaf5.dropna()\n",
    "cleaned_data2_leaf5.set_index('time');\n",
    "cleaned_data2_leaf5.to_csv('cleaned_data2_leaf5_26min.csv', index=False)\n",
    "cleaned_data2_leaf6=raw_data2_leaf6[['time','input-data-rate','output-data-rate','interface-name']]\n",
    "cleaned_data2_leaf6=cleaned_data2_leaf6.dropna()\n",
    "cleaned_data2_leaf6.set_index('time');\n",
    "cleaned_data2_leaf6.to_csv('cleaned_data2_leaf6_26min.csv', index=False)\n",
    "cleaned_data2_leaf7=raw_data2_leaf7[['time','input-data-rate','output-data-rate','interface-name']]\n",
    "cleaned_data2_leaf7=cleaned_data2_leaf7.dropna()\n",
    "cleaned_data2_leaf7.set_index('time');\n",
    "cleaned_data2_leaf7.to_csv('cleaned_data2_leaf7_26min.csv', index=False)\n",
    "cleaned_data2_leaf8=raw_data2_leaf8[['time','input-data-rate','output-data-rate','interface-name']]\n",
    "cleaned_data2_leaf8=cleaned_data2_leaf8.dropna()\n",
    "cleaned_data2_leaf8.set_index('time');\n",
    "cleaned_data2_leaf8.to_csv('cleaned_data2_leaf8_26min.csv', index=False)\n",
    "cleaned_data2_spine1=raw_data2_spine1[['time','input-data-rate','output-data-rate','interface-name']]\n",
    "cleaned_data2_spine1=cleaned_data2_spine1.dropna()\n",
    "cleaned_data2_spine1.set_index('time');\n",
    "cleaned_data2_spine1.to_csv('cleaned_data2_spine1_26min.csv', index=False)\n",
    "cleaned_data2_spine2=raw_data2_spine2[['time','input-data-rate','output-data-rate','interface-name']]\n",
    "cleaned_data2_spine2=cleaned_data2_spine2.dropna()\n",
    "cleaned_data2_spine2.set_index('time');\n",
    "cleaned_data2_spine2.to_csv('cleaned_data2_spine2_26min.csv', index=False)\n",
    "cleaned_data2_spine3=raw_data2_spine3[['time','input-data-rate','output-data-rate','interface-name']]\n",
    "cleaned_data2_spine3=cleaned_data2_spine3.dropna()\n",
    "cleaned_data2_spine3.set_index('time');\n",
    "cleaned_data2_spine3.to_csv('cleaned_data2_spine3_26min.csv', index=False)\n",
    "cleaned_data2_spine4=raw_data2_spine4[['time','input-data-rate','output-data-rate','interface-name']]\n",
    "cleaned_data2_spine4=cleaned_data2_spine4.dropna()\n",
    "cleaned_data2_spine4.set_index('time');\n",
    "cleaned_data2_spine4.to_csv('cleaned_data2_spine4_26min.csv', index=False)\n",
    "\n"
   ]
  },
  {
   "cell_type": "code",
   "execution_count": 2,
   "metadata": {},
   "outputs": [
    {
     "name": "stderr",
     "output_type": "stream",
     "text": [
      "D:\\Anaconda3\\lib\\site-packages\\IPython\\core\\interactiveshell.py:2698: DtypeWarning: Columns (6,37,38,46,63,70,74,82) have mixed types. Specify dtype option on import or set low_memory=False.\n",
      "  interactivity=interactivity, compiler=compiler, result=result)\n"
     ]
    }
   ],
   "source": [
    "raw_data3 = pd.read_csv(\"D:/Downloads_D/admin_portflap.csv\")"
   ]
  },
  {
   "cell_type": "code",
   "execution_count": 3,
   "metadata": {
    "collapsed": true
   },
   "outputs": [],
   "source": [
    "raw_data3_leaf1=raw_data3[(raw_data3.Producer=='leaf1')]\n",
    "raw_data3_leaf2=raw_data3[(raw_data3.Producer=='leaf2')]\n",
    "raw_data3_leaf3=raw_data3[(raw_data3.Producer=='leaf3')]\n",
    "raw_data3_leaf4=raw_data3[(raw_data3.Producer=='leaf4')]\n",
    "raw_data3_leaf5=raw_data3[(raw_data3.Producer=='leaf5')]\n",
    "raw_data3_leaf6=raw_data3[(raw_data3.Producer=='leaf6')]\n",
    "raw_data3_leaf7=raw_data3[(raw_data3.Producer=='leaf7')]\n",
    "raw_data3_leaf8=raw_data3[(raw_data3.Producer=='leaf8')]\n",
    "raw_data3_spine1=raw_data3[(raw_data3.Producer=='spine1')]\n",
    "raw_data3_spine2=raw_data3[(raw_data3.Producer=='spine2')]\n",
    "raw_data3_spine3=raw_data3[(raw_data3.Producer=='spine3')]\n",
    "raw_data3_spine4=raw_data3[(raw_data3.Producer=='spine4')]"
   ]
  },
  {
   "cell_type": "code",
   "execution_count": 4,
   "metadata": {
    "collapsed": true
   },
   "outputs": [],
   "source": [
    "cleaned_data3_leaf1=raw_data3_leaf1[['time','input-data-rate','output-data-rate','interface-name']]\n",
    "cleaned_data3_leaf1=cleaned_data3_leaf1.dropna()\n",
    "cleaned_data3_leaf1.set_index('time');\n",
    "cleaned_data3_leaf1.to_csv('cleaned_data3_leaf1.csv', index=False)\n",
    "\n",
    "cleaned_data3_leaf2=raw_data3_leaf2[['time','input-data-rate','output-data-rate','interface-name']]\n",
    "cleaned_data3_leaf2=cleaned_data3_leaf2.dropna()\n",
    "cleaned_data3_leaf2.set_index('time');\n",
    "cleaned_data3_leaf2.to_csv('cleaned_data3_leaf2.csv', index=False)\n",
    "\n",
    "cleaned_data3_leaf3=raw_data3_leaf3[['time','input-data-rate','output-data-rate','interface-name']]\n",
    "cleaned_data3_leaf3=cleaned_data3_leaf3.dropna()\n",
    "cleaned_data3_leaf3.set_index('time');\n",
    "cleaned_data3_leaf3.to_csv('cleaned_data3_leaf3.csv', index=False)\n",
    "\n",
    "cleaned_data3_leaf4=raw_data3_leaf4[['time','input-data-rate','output-data-rate','interface-name']]\n",
    "cleaned_data3_leaf4=cleaned_data3_leaf4.dropna()\n",
    "cleaned_data3_leaf4.set_index('time');\n",
    "cleaned_data3_leaf4.to_csv('cleaned_data3_leaf4.csv', index=False)\n",
    "\n",
    "cleaned_data3_leaf5=raw_data3_leaf5[['time','input-data-rate','output-data-rate','interface-name']]\n",
    "cleaned_data3_leaf5=cleaned_data3_leaf5.dropna()\n",
    "cleaned_data3_leaf5.set_index('time');\n",
    "cleaned_data3_leaf5.to_csv('cleaned_data3_leaf5.csv', index=False)\n",
    "\n",
    "cleaned_data3_leaf6=raw_data3_leaf6[['time','input-data-rate','output-data-rate','interface-name']]\n",
    "cleaned_data3_leaf6=cleaned_data3_leaf6.dropna()\n",
    "cleaned_data3_leaf6.set_index('time');\n",
    "cleaned_data3_leaf6.to_csv('cleaned_data3_leaf6.csv', index=False)\n",
    "\n",
    "cleaned_data3_leaf7=raw_data3_leaf7[['time','input-data-rate','output-data-rate','interface-name']]\n",
    "cleaned_data3_leaf7=cleaned_data3_leaf7.dropna()\n",
    "cleaned_data3_leaf7.set_index('time');\n",
    "cleaned_data3_leaf7.to_csv('cleaned_data3_leaf7.csv', index=False)\n",
    "\n",
    "cleaned_data3_leaf8=raw_data3_leaf8[['time','input-data-rate','output-data-rate','interface-name']]\n",
    "cleaned_data3_leaf8=cleaned_data3_leaf8.dropna()\n",
    "cleaned_data3_leaf8.set_index('time');\n",
    "cleaned_data3_leaf8.to_csv('cleaned_data3_leaf8.csv', index=False)\n",
    "\n",
    "cleaned_data3_spine1=raw_data3_spine1[['time','input-data-rate','output-data-rate','interface-name']]\n",
    "cleaned_data3_spine1=cleaned_data3_spine1.dropna()\n",
    "cleaned_data3_spine1.set_index('time');\n",
    "cleaned_data3_spine1.to_csv('cleaned_data3_spine1.csv', index=False)\n",
    "\n",
    "cleaned_data3_spine2=raw_data3_spine2[['time','input-data-rate','output-data-rate','interface-name']]\n",
    "cleaned_data3_spine2=cleaned_data3_spine2.dropna()\n",
    "cleaned_data3_spine2.set_index('time');\n",
    "cleaned_data3_spine2.to_csv('cleaned_data3_spine2.csv', index=False)\n",
    "\n",
    "cleaned_data3_spine3=raw_data3_spine3[['time','input-data-rate','output-data-rate','interface-name']]\n",
    "cleaned_data3_spine3=cleaned_data3_spine3.dropna()\n",
    "cleaned_data3_spine3.set_index('time');\n",
    "cleaned_data3_spine3.to_csv('cleaned_data3_spine3.csv', index=False)\n",
    "\n",
    "cleaned_data3_spine4=raw_data3_spine4[['time','input-data-rate','output-data-rate','interface-name']]\n",
    "cleaned_data3_spine4=cleaned_data3_spine4.dropna()\n",
    "cleaned_data3_spine4.set_index('time');\n",
    "cleaned_data3_spine4.to_csv('cleaned_data3_spine4.csv', index=False)"
   ]
  },
  {
   "cell_type": "code",
   "execution_count": null,
   "metadata": {
    "collapsed": true
   },
   "outputs": [],
   "source": []
  }
 ],
 "metadata": {
  "kernelspec": {
   "display_name": "Python 3",
   "language": "python",
   "name": "python3"
  },
  "language_info": {
   "codemirror_mode": {
    "name": "ipython",
    "version": 3
   },
   "file_extension": ".py",
   "mimetype": "text/x-python",
   "name": "python",
   "nbconvert_exporter": "python",
   "pygments_lexer": "ipython3",
   "version": "3.6.3"
  }
 },
 "nbformat": 4,
 "nbformat_minor": 2
}
